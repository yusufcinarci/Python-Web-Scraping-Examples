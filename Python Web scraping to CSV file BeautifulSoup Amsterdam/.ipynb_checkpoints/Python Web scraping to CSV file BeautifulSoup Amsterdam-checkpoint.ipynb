{
 "cells": [
  {
   "cell_type": "code",
   "execution_count": 1,
   "id": "022a5521",
   "metadata": {},
   "outputs": [],
   "source": [
    "from bs4 import BeautifulSoup\n",
    "import requests\n",
    "from csv import writer"
   ]
  },
  {
   "cell_type": "code",
   "execution_count": 2,
   "id": "20c52c36",
   "metadata": {},
   "outputs": [],
   "source": [
    "url= \"https://www.pararius.com/apartments/amsterdam?ac=1\"\n",
    "page = requests.get(url)"
   ]
  },
  {
   "cell_type": "code",
   "execution_count": 3,
   "id": "df650468",
   "metadata": {},
   "outputs": [],
   "source": [
    "soup = BeautifulSoup(page.content, 'html.parser')\n",
    "lists = soup.find_all('section', class_=\"listing-search-item\")"
   ]
  },
  {
   "cell_type": "code",
   "execution_count": 18,
   "id": "0fa5d841",
   "metadata": {},
   "outputs": [],
   "source": [
    "with open('housing.csv', 'w', encoding='utf8', newline='') as f:\n",
    "    thewriter = writer(f)\n",
    "    header = ['Title', 'Location', 'Price', 'features']\n",
    "    thewriter.writerow(header)\n",
    "\n",
    "    for list in lists:\n",
    "        title = list.find('a', class_=\"listing-search-item__link--title\").text.replace('\\n', '')\n",
    "        location = list.find('div', class_=\"listing-search-item__sub-title\").text.replace('\\n', '')\n",
    "        price = list.find('div', class_=\"listing-search-item__price\").text.replace('\\n', '')\n",
    "        features = list.find('div', class_=\"listing-search-item__features\").text.replace('\\n', '')\n",
    "        \n",
    "        info = [title, location, price, features]\n",
    "        thewriter.writerow(info)"
   ]
  }
 ],
 "metadata": {
  "kernelspec": {
   "display_name": "Python 3 (ipykernel)",
   "language": "python",
   "name": "python3"
  },
  "language_info": {
   "codemirror_mode": {
    "name": "ipython",
    "version": 3
   },
   "file_extension": ".py",
   "mimetype": "text/x-python",
   "name": "python",
   "nbconvert_exporter": "python",
   "pygments_lexer": "ipython3",
   "version": "3.9.7"
  }
 },
 "nbformat": 4,
 "nbformat_minor": 5
}
