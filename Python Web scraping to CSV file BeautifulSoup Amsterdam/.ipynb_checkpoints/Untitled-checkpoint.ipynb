{
 "cells": [
  {
   "cell_type": "code",
   "execution_count": null,
   "id": "533b98ab",
   "metadata": {},
   "outputs": [],
   "source": [
    "from bs4 import BeautifulSoup\n",
    "import requests"
   ]
  },
  {
   "cell_type": "code",
   "execution_count": null,
   "id": "c9a46d84",
   "metadata": {},
   "outputs": [],
   "source": [
    "url=\"https://www.sahibinden.com/kiralik/manisa#/\"\n",
    "page=requests.get(url)"
   ]
  },
  {
   "cell_type": "code",
   "execution_count": null,
   "id": "de3ecb09",
   "metadata": {},
   "outputs": [],
   "source": [
    "soup = BeautifulSoup(page.content, 'html.parser')\n",
    "lists = soup.find_all('content', class_=\"search-result-item\")"
   ]
  },
  {
   "cell_type": "code",
   "execution_count": null,
   "id": "4ca9b01c",
   "metadata": {},
   "outputs": [],
   "source": [
    "with open('housing.csv', 'w', encoding='utf8', newline='') as f:\n",
    "    thewriter = writer(f)\n",
    "    header = ['Title', 'Location', 'Price']\n",
    "    thewriter.writerow(header)\n",
    "    \n",
    "    \n",
    "    for list in lists:\n",
    "        title = list.find('a', class_=\"search-result-item__item-title\").text.replace('\\n', '')\n",
    "        location = list.find('div', class_=\"search-result-item__item-location\").text.replace('\\n', '')\n",
    "        price = list.find('span', class_=\"listing-search-item__item-price\").text.replace('\\n', '')\n",
    "        \n",
    "        info = [title, location, price]\n",
    "        thewriter.writerow(info)"
   ]
  }
 ],
 "metadata": {
  "kernelspec": {
   "display_name": "Python 3 (ipykernel)",
   "language": "python",
   "name": "python3"
  },
  "language_info": {
   "codemirror_mode": {
    "name": "ipython",
    "version": 3
   },
   "file_extension": ".py",
   "mimetype": "text/x-python",
   "name": "python",
   "nbconvert_exporter": "python",
   "pygments_lexer": "ipython3",
   "version": "3.9.7"
  }
 },
 "nbformat": 4,
 "nbformat_minor": 5
}
